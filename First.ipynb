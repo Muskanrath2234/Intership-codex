{
  "nbformat": 4,
  "nbformat_minor": 0,
  "metadata": {
    "colab": {
      "provenance": [],
      "authorship_tag": "ABX9TyMK7rawyE9oOUjYiSPAfdAH",
      "include_colab_link": true
    },
    "kernelspec": {
      "name": "python3",
      "display_name": "Python 3"
    },
    "language_info": {
      "name": "python"
    }
  },
  "cells": [
    {
      "cell_type": "markdown",
      "metadata": {
        "id": "view-in-github",
        "colab_type": "text"
      },
      "source": [
        "<a href=\"https://colab.research.google.com/github/Muskanrath2234/Intership-codex/blob/main/First.ipynb\" target=\"_parent\"><img src=\"https://colab.research.google.com/assets/colab-badge.svg\" alt=\"Open In Colab\"/></a>"
      ]
    },
    {
      "cell_type": "code",
      "execution_count": null,
      "metadata": {
        "id": "OCH02KHl7nSG",
        "colab": {
          "base_uri": "https://localhost:8080/"
        },
        "outputId": "365c46f3-8033-44f8-9f78-30ad2d39f36e"
      },
      "outputs": [
        {
          "output_type": "stream",
          "name": "stdout",
          "text": [
            "hello world\n"
          ]
        }
      ],
      "source": [
        "print(\"hello world\")"
      ]
    },
    {
      "cell_type": "code",
      "source": [
        "a= 10\n",
        "b=16\n",
        "print(\"sum :\" ,a+b)"
      ],
      "metadata": {
        "id": "hzy2Qp378xZm",
        "colab": {
          "base_uri": "https://localhost:8080/"
        },
        "outputId": "e1d4b4ad-fb43-41a3-819b-865587185d93"
      },
      "execution_count": null,
      "outputs": [
        {
          "output_type": "stream",
          "name": "stdout",
          "text": [
            "sum : 26\n"
          ]
        }
      ]
    },
    {
      "cell_type": "code",
      "source": [
        "a = int(input(\"Enter value of a\"))\n",
        "cube = a*a*a\n",
        "print(\"cube of \", a ,\"is :\" ,cube)"
      ],
      "metadata": {
        "colab": {
          "base_uri": "https://localhost:8080/"
        },
        "id": "C2gxi5pf9nXY",
        "outputId": "d31ddbfc-9064-4fc2-a214-e4d30e70ea20"
      },
      "execution_count": null,
      "outputs": [
        {
          "output_type": "stream",
          "name": "stdout",
          "text": [
            "Enter value of a334\n",
            "cube of  334 is : 37259704\n"
          ]
        }
      ]
    },
    {
      "cell_type": "code",
      "source": [
        "a = \"new\"\n",
        "b = \"notebook\"\n",
        "print(a+b)"
      ],
      "metadata": {
        "colab": {
          "base_uri": "https://localhost:8080/"
        },
        "id": "JvIWzD5j9_O9",
        "outputId": "3575efe7-368a-40eb-f43a-2ffa5f7762ee"
      },
      "execution_count": null,
      "outputs": [
        {
          "output_type": "stream",
          "name": "stdout",
          "text": [
            "newnotebook\n"
          ]
        }
      ]
    },
    {
      "cell_type": "code",
      "source": [
        "# numpy program\n",
        "import numpy as np\n",
        "arr = np.array((1,2,3))\n",
        "print(\"Array =\",arr)\n",
        "\n",
        "print(type(arr))"
      ],
      "metadata": {
        "id": "uoqqCCHl-LhJ",
        "colab": {
          "base_uri": "https://localhost:8080/"
        },
        "outputId": "dd24802a-c876-4fdf-ec1a-bf0feaba3717"
      },
      "execution_count": null,
      "outputs": [
        {
          "output_type": "stream",
          "name": "stdout",
          "text": [
            "Array = [1 2 3]\n",
            "<class 'numpy.ndarray'>\n"
          ]
        }
      ]
    },
    {
      "cell_type": "code",
      "source": [
        "# matplotlib program\n",
        "# draw a simple line using x and y coordinates\n",
        "import matplotlib.pyplot as plt\n",
        "import numpy as np\n",
        "\n",
        "xpts = np.array([1,4])\n",
        "ypts = np.array([7,10])\n",
        "# plot function is used to draw points in diagram(example- drawing a line from one point to another)\n",
        "plt.plot(xpts,ypts)\n",
        "plt.show()"
      ],
      "metadata": {
        "colab": {
          "base_uri": "https://localhost:8080/",
          "height": 430
        },
        "id": "qaZUQCZ8pZzZ",
        "outputId": "c34bf995-0aa0-427e-d07e-d6ea555f0f29"
      },
      "execution_count": null,
      "outputs": [
        {
          "output_type": "display_data",
          "data": {
            "text/plain": [
              "<Figure size 640x480 with 1 Axes>"
            ],
            "image/png": "[encoded data removed]"
          },
          "metadata": {}
        }
      ]
    },
    {
      "cell_type": "code",
      "source": [],
      "metadata": {
        "id": "gnEVJiTUry57"
      },
      "execution_count": null,
      "outputs": []
    }
  ]
}